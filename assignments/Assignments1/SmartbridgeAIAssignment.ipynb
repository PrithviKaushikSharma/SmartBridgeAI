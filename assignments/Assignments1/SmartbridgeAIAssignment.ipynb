{
  "nbformat": 4,
  "nbformat_minor": 0,
  "metadata": {
    "colab": {
      "provenance": []
    },
    "kernelspec": {
      "name": "python3",
      "display_name": "Python 3"
    },
    "language_info": {
      "name": "python"
    }
  },
  "cells": [
    {
      "cell_type": "code",
      "execution_count": 2,
      "metadata": {
        "colab": {
          "base_uri": "https://localhost:8080/"
        },
        "id": "D06izRoREgLg",
        "outputId": "4fc2300f-d62a-4f51-a510-a487beae726b"
      },
      "outputs": [
        {
          "output_type": "stream",
          "name": "stdout",
          "text": [
            "   Feature 1  Feature 2  Feature 3  Feature 4\n",
            "0   0.407687   0.055366   0.788535   0.287305\n",
            "1   0.450351   0.303912   0.526400   0.623812\n",
            "2   0.776775   0.686242   0.980939   0.600816\n",
            "3   0.813969   0.708645   0.027535   0.904267\n"
          ]
        }
      ],
      "source": [
        "import numpy as np\n",
        "import pandas as pd\n",
        "\n",
        "np.random.seed(40)\n",
        "\n",
        "data = np.random.rand(4, 4)\n",
        "\n",
        "df = pd.DataFrame(data, columns=['Feature 1', 'Feature 2', 'Feature 3', 'Feature 4'])\n",
        "\n",
        "print(df)\n"
      ]
    },
    {
      "cell_type": "code",
      "source": [
        "new_column_names = {\n",
        "    'Feature 1': 'Random value 1',\n",
        "    'Feature 2': 'Random value 2',\n",
        "    'Feature 3': 'Random value 3',\n",
        "    'Feature 4': 'Random value 4'\n",
        "}\n",
        "df = df.rename(columns=new_column_names)\n",
        "\n",
        "print(df)\n"
      ],
      "metadata": {
        "colab": {
          "base_uri": "https://localhost:8080/"
        },
        "id": "z2sSfZ7RFNEU",
        "outputId": "c4dab389-7506-47dc-a033-84201368a41a"
      },
      "execution_count": 6,
      "outputs": [
        {
          "output_type": "stream",
          "name": "stdout",
          "text": [
            "   Random value 1  Random value 2  Random value 3  Random value 4\n",
            "0        0.407687        0.055366        0.788535        0.287305\n",
            "1        0.450351        0.303912        0.526400        0.623812\n",
            "2        0.776775        0.686242        0.980939        0.600816\n",
            "3        0.813969        0.708645        0.027535        0.904267\n"
          ]
        }
      ]
    },
    {
      "cell_type": "code",
      "source": [
        "statistics = df.describe()\n",
        "\n",
        "print(statistics)"
      ],
      "metadata": {
        "colab": {
          "base_uri": "https://localhost:8080/"
        },
        "id": "F0ruNqxjFNeC",
        "outputId": "0cc3f8db-2f03-4a3e-ec5a-3fd30c676ba6"
      },
      "execution_count": 5,
      "outputs": [
        {
          "output_type": "stream",
          "name": "stdout",
          "text": [
            "       Random value 1  Random value 2  Random value 3  Random value 4\n",
            "count        4.000000        4.000000        4.000000        4.000000\n",
            "mean         0.612195        0.438541        0.580852        0.604050\n",
            "std          0.212772        0.315837        0.413250        0.252229\n",
            "min          0.407687        0.055366        0.027535        0.287305\n",
            "25%          0.439685        0.241776        0.401683        0.522438\n",
            "50%          0.613563        0.495077        0.657467        0.612314\n",
            "75%          0.786074        0.691843        0.836636        0.693926\n",
            "max          0.813969        0.708645        0.980939        0.904267\n"
          ]
        }
      ]
    },
    {
      "cell_type": "code",
      "source": [
        "null_values = df.isnull().sum()\n",
        "\n",
        "data_types = df.dtypes\n",
        "\n",
        "print(null_values)\n",
        "print(\"\\n\")\n",
        "print(data_types)"
      ],
      "metadata": {
        "colab": {
          "base_uri": "https://localhost:8080/"
        },
        "id": "YoHTY1CoFNkJ",
        "outputId": "52804d34-d488-409d-ae45-211b647cc511"
      },
      "execution_count": 9,
      "outputs": [
        {
          "output_type": "stream",
          "name": "stdout",
          "text": [
            "Random value 1    0\n",
            "Random value 2    0\n",
            "Random value 3    0\n",
            "Random value 4    0\n",
            "dtype: int64\n",
            "\n",
            "\n",
            "Random value 1    float64\n",
            "Random value 2    float64\n",
            "Random value 3    float64\n",
            "Random value 4    float64\n",
            "dtype: object\n"
          ]
        }
      ]
    },
    {
      "cell_type": "code",
      "source": [
        "print(\"Using location method:\")\n",
        "print(df.loc[:, ['Random value 2', 'Random value 3']])\n",
        "\n",
        "print(\"\\n\")\n",
        "print(\"Using index location method:\")\n",
        "print(df.iloc[:, [1, 2]])"
      ],
      "metadata": {
        "colab": {
          "base_uri": "https://localhost:8080/"
        },
        "id": "6JfvRjXFFNqB",
        "outputId": "0c498d71-b2b9-4bfd-f43b-a1615b82f8e5"
      },
      "execution_count": 10,
      "outputs": [
        {
          "output_type": "stream",
          "name": "stdout",
          "text": [
            "Using location method:\n",
            "   Random value 2  Random value 3\n",
            "0        0.055366        0.788535\n",
            "1        0.303912        0.526400\n",
            "2        0.686242        0.980939\n",
            "3        0.708645        0.027535\n",
            "\n",
            "\n",
            "Using index location method:\n",
            "   Random value 2  Random value 3\n",
            "0        0.055366        0.788535\n",
            "1        0.303912        0.526400\n",
            "2        0.686242        0.980939\n",
            "3        0.708645        0.027535\n"
          ]
        }
      ]
    }
  ]
}